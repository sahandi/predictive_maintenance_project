{
 "cells": [
  {
   "cell_type": "code",
   "execution_count": 1,
   "id": "00a3838d-6a65-48c6-9be2-06e85ce74811",
   "metadata": {},
   "outputs": [
    {
     "name": "stdout",
     "output_type": "stream",
     "text": [
      "   engine_id  cycle  op_setting_1  op_setting_2  op_setting_3  sensor_1  \\\n",
      "0          1      1       -0.0007       -0.0004         100.0    518.67   \n",
      "1          1      2        0.0019       -0.0003         100.0    518.67   \n",
      "2          1      3       -0.0043        0.0003         100.0    518.67   \n",
      "3          1      4        0.0007        0.0000         100.0    518.67   \n",
      "4          1      5       -0.0019       -0.0002         100.0    518.67   \n",
      "\n",
      "   sensor_2  sensor_3  sensor_4  sensor_5  ...  sensor_12  sensor_13  \\\n",
      "0    641.82   1589.70   1400.60     14.62  ...     521.66    2388.02   \n",
      "1    642.15   1591.82   1403.14     14.62  ...     522.28    2388.07   \n",
      "2    642.35   1587.99   1404.20     14.62  ...     522.42    2388.03   \n",
      "3    642.35   1582.79   1401.87     14.62  ...     522.86    2388.08   \n",
      "4    642.37   1582.85   1406.22     14.62  ...     522.19    2388.04   \n",
      "\n",
      "   sensor_14  sensor_15  sensor_16  sensor_17  sensor_18  sensor_19  \\\n",
      "0    8138.62     8.4195       0.03        392       2388      100.0   \n",
      "1    8131.49     8.4318       0.03        392       2388      100.0   \n",
      "2    8133.23     8.4178       0.03        390       2388      100.0   \n",
      "3    8133.83     8.3682       0.03        392       2388      100.0   \n",
      "4    8133.80     8.4294       0.03        393       2388      100.0   \n",
      "\n",
      "   sensor_20  sensor_21  \n",
      "0      39.06    23.4190  \n",
      "1      39.00    23.4236  \n",
      "2      38.95    23.3442  \n",
      "3      38.88    23.3739  \n",
      "4      38.90    23.4044  \n",
      "\n",
      "[5 rows x 26 columns]\n",
      "engine_id       0\n",
      "cycle           0\n",
      "op_setting_1    0\n",
      "op_setting_2    0\n",
      "op_setting_3    0\n",
      "sensor_1        0\n",
      "sensor_2        0\n",
      "sensor_3        0\n",
      "sensor_4        0\n",
      "sensor_5        0\n",
      "sensor_6        0\n",
      "sensor_7        0\n",
      "sensor_8        0\n",
      "sensor_9        0\n",
      "sensor_10       0\n",
      "sensor_11       0\n",
      "sensor_12       0\n",
      "sensor_13       0\n",
      "sensor_14       0\n",
      "sensor_15       0\n",
      "sensor_16       0\n",
      "sensor_17       0\n",
      "sensor_18       0\n",
      "sensor_19       0\n",
      "sensor_20       0\n",
      "sensor_21       0\n",
      "dtype: int64\n",
      "   engine_id  cycle  op_setting_1  op_setting_2  op_setting_3  sensor_1  \\\n",
      "0          1      1       -0.0007       -0.0004         100.0    518.67   \n",
      "1          1      2        0.0019       -0.0003         100.0    518.67   \n",
      "2          1      3       -0.0043        0.0003         100.0    518.67   \n",
      "3          1      4        0.0007        0.0000         100.0    518.67   \n",
      "4          1      5       -0.0019       -0.0002         100.0    518.67   \n",
      "\n",
      "   sensor_2  sensor_3  sensor_4  sensor_5  ...  sensor_12  sensor_13  \\\n",
      "0    641.82   1589.70   1400.60     14.62  ...     521.66    2388.02   \n",
      "1    642.15   1591.82   1403.14     14.62  ...     522.28    2388.07   \n",
      "2    642.35   1587.99   1404.20     14.62  ...     522.42    2388.03   \n",
      "3    642.35   1582.79   1401.87     14.62  ...     522.86    2388.08   \n",
      "4    642.37   1582.85   1406.22     14.62  ...     522.19    2388.04   \n",
      "\n",
      "   sensor_14  sensor_15  sensor_16  sensor_17  sensor_18  sensor_19  \\\n",
      "0    8138.62     8.4195       0.03        392       2388      100.0   \n",
      "1    8131.49     8.4318       0.03        392       2388      100.0   \n",
      "2    8133.23     8.4178       0.03        390       2388      100.0   \n",
      "3    8133.83     8.3682       0.03        392       2388      100.0   \n",
      "4    8133.80     8.4294       0.03        393       2388      100.0   \n",
      "\n",
      "   sensor_20  sensor_21  \n",
      "0      39.06    23.4190  \n",
      "1      39.00    23.4236  \n",
      "2      38.95    23.3442  \n",
      "3      38.88    23.3739  \n",
      "4      38.90    23.4044  \n",
      "\n",
      "[5 rows x 26 columns]\n",
      "engine_id       0\n",
      "cycle           0\n",
      "op_setting_1    0\n",
      "op_setting_2    0\n",
      "op_setting_3    0\n",
      "sensor_1        0\n",
      "sensor_2        0\n",
      "sensor_3        0\n",
      "sensor_4        0\n",
      "sensor_5        0\n",
      "sensor_6        0\n",
      "sensor_7        0\n",
      "sensor_8        0\n",
      "sensor_9        0\n",
      "sensor_10       0\n",
      "sensor_11       0\n",
      "sensor_12       0\n",
      "sensor_13       0\n",
      "sensor_14       0\n",
      "sensor_15       0\n",
      "sensor_16       0\n",
      "sensor_17       0\n",
      "sensor_18       0\n",
      "sensor_19       0\n",
      "sensor_20       0\n",
      "sensor_21       0\n",
      "dtype: int64\n"
     ]
    }
   ],
   "source": [
    "# %run feature_engineering.ipynb\n",
    "# Run the first notebook to get cleaned data\n",
    "%run data_exploration.ipynb\n",
    "\n",
    "# Run the second notebook to get feature-engineered data\n",
    "%run feature_engineering.ipynb\n"
   ]
  },
  {
   "cell_type": "code",
   "execution_count": 2,
   "id": "95e3c563-9b54-4c92-b282-70d4d6f13d13",
   "metadata": {},
   "outputs": [
    {
     "data": {
      "text/html": [
       "<style>#sk-container-id-1 {color: black;background-color: white;}#sk-container-id-1 pre{padding: 0;}#sk-container-id-1 div.sk-toggleable {background-color: white;}#sk-container-id-1 label.sk-toggleable__label {cursor: pointer;display: block;width: 100%;margin-bottom: 0;padding: 0.3em;box-sizing: border-box;text-align: center;}#sk-container-id-1 label.sk-toggleable__label-arrow:before {content: \"▸\";float: left;margin-right: 0.25em;color: #696969;}#sk-container-id-1 label.sk-toggleable__label-arrow:hover:before {color: black;}#sk-container-id-1 div.sk-estimator:hover label.sk-toggleable__label-arrow:before {color: black;}#sk-container-id-1 div.sk-toggleable__content {max-height: 0;max-width: 0;overflow: hidden;text-align: left;background-color: #f0f8ff;}#sk-container-id-1 div.sk-toggleable__content pre {margin: 0.2em;color: black;border-radius: 0.25em;background-color: #f0f8ff;}#sk-container-id-1 input.sk-toggleable__control:checked~div.sk-toggleable__content {max-height: 200px;max-width: 100%;overflow: auto;}#sk-container-id-1 input.sk-toggleable__control:checked~label.sk-toggleable__label-arrow:before {content: \"▾\";}#sk-container-id-1 div.sk-estimator input.sk-toggleable__control:checked~label.sk-toggleable__label {background-color: #d4ebff;}#sk-container-id-1 div.sk-label input.sk-toggleable__control:checked~label.sk-toggleable__label {background-color: #d4ebff;}#sk-container-id-1 input.sk-hidden--visually {border: 0;clip: rect(1px 1px 1px 1px);clip: rect(1px, 1px, 1px, 1px);height: 1px;margin: -1px;overflow: hidden;padding: 0;position: absolute;width: 1px;}#sk-container-id-1 div.sk-estimator {font-family: monospace;background-color: #f0f8ff;border: 1px dotted black;border-radius: 0.25em;box-sizing: border-box;margin-bottom: 0.5em;}#sk-container-id-1 div.sk-estimator:hover {background-color: #d4ebff;}#sk-container-id-1 div.sk-parallel-item::after {content: \"\";width: 100%;border-bottom: 1px solid gray;flex-grow: 1;}#sk-container-id-1 div.sk-label:hover label.sk-toggleable__label {background-color: #d4ebff;}#sk-container-id-1 div.sk-serial::before {content: \"\";position: absolute;border-left: 1px solid gray;box-sizing: border-box;top: 0;bottom: 0;left: 50%;z-index: 0;}#sk-container-id-1 div.sk-serial {display: flex;flex-direction: column;align-items: center;background-color: white;padding-right: 0.2em;padding-left: 0.2em;position: relative;}#sk-container-id-1 div.sk-item {position: relative;z-index: 1;}#sk-container-id-1 div.sk-parallel {display: flex;align-items: stretch;justify-content: center;background-color: white;position: relative;}#sk-container-id-1 div.sk-item::before, #sk-container-id-1 div.sk-parallel-item::before {content: \"\";position: absolute;border-left: 1px solid gray;box-sizing: border-box;top: 0;bottom: 0;left: 50%;z-index: -1;}#sk-container-id-1 div.sk-parallel-item {display: flex;flex-direction: column;z-index: 1;position: relative;background-color: white;}#sk-container-id-1 div.sk-parallel-item:first-child::after {align-self: flex-end;width: 50%;}#sk-container-id-1 div.sk-parallel-item:last-child::after {align-self: flex-start;width: 50%;}#sk-container-id-1 div.sk-parallel-item:only-child::after {width: 0;}#sk-container-id-1 div.sk-dashed-wrapped {border: 1px dashed gray;margin: 0 0.4em 0.5em 0.4em;box-sizing: border-box;padding-bottom: 0.4em;background-color: white;}#sk-container-id-1 div.sk-label label {font-family: monospace;font-weight: bold;display: inline-block;line-height: 1.2em;}#sk-container-id-1 div.sk-label-container {text-align: center;}#sk-container-id-1 div.sk-container {/* jupyter's `normalize.less` sets `[hidden] { display: none; }` but bootstrap.min.css set `[hidden] { display: none !important; }` so we also need the `!important` here to be able to override the default hidden behavior on the sphinx rendered scikit-learn.org. See: https://github.com/scikit-learn/scikit-learn/issues/21755 */display: inline-block !important;position: relative;}#sk-container-id-1 div.sk-text-repr-fallback {display: none;}</style><div id=\"sk-container-id-1\" class=\"sk-top-container\"><div class=\"sk-text-repr-fallback\"><pre>GradientBoostingRegressor(n_estimators=200, random_state=42)</pre><b>In a Jupyter environment, please rerun this cell to show the HTML representation or trust the notebook. <br />On GitHub, the HTML representation is unable to render, please try loading this page with nbviewer.org.</b></div><div class=\"sk-container\" hidden><div class=\"sk-item\"><div class=\"sk-estimator sk-toggleable\"><input class=\"sk-toggleable__control sk-hidden--visually\" id=\"sk-estimator-id-1\" type=\"checkbox\" checked><label for=\"sk-estimator-id-1\" class=\"sk-toggleable__label sk-toggleable__label-arrow\">GradientBoostingRegressor</label><div class=\"sk-toggleable__content\"><pre>GradientBoostingRegressor(n_estimators=200, random_state=42)</pre></div></div></div></div></div>"
      ],
      "text/plain": [
       "GradientBoostingRegressor(n_estimators=200, random_state=42)"
      ]
     },
     "execution_count": 2,
     "metadata": {},
     "output_type": "execute_result"
    }
   ],
   "source": [
    "from sklearn.model_selection import train_test_split\n",
    "from sklearn.ensemble import RandomForestRegressor, GradientBoostingRegressor\n",
    "from sklearn.linear_model import LinearRegression\n",
    "\n",
    "# Split the data into features (X) and target (y)\n",
    "X = data.drop(['RUL', 'engine_id', 'cycle'], axis=1)\n",
    "y = data['RUL']\n",
    "\n",
    "# Split into training and testing sets (80% training, 20% testing)\n",
    "X_train, X_test, y_train, y_test = train_test_split(X, y, test_size=0.2, random_state=42)\n",
    "\n",
    "# Train Linear Regression model\n",
    "lin_reg = LinearRegression()\n",
    "lin_reg.fit(X_train, y_train)\n",
    "\n",
    "# Train Random Forest model\n",
    "rf = RandomForestRegressor(n_estimators=100, max_depth=10, random_state=42)\n",
    "rf.fit(X_train, y_train)\n",
    "\n",
    "# Train Gradient Boosting model\n",
    "gb = GradientBoostingRegressor(n_estimators=200, learning_rate=0.1, max_depth=3, random_state=42)\n",
    "gb.fit(X_train, y_train)\n"
   ]
  },
  {
   "cell_type": "code",
   "execution_count": 3,
   "id": "b589cb4b-2d37-4adc-9a3c-5d3af7da4f70",
   "metadata": {},
   "outputs": [
    {
     "name": "stdout",
     "output_type": "stream",
     "text": [
      "Linear Regression - MAE: 32.62210032412823, RMSE: 43.03240256990069, R2: 0.599364998109305\n",
      "Random Forest - MAE: 25.293157774170552, RMSE: 36.48316826135145, R2: 0.7120329527328951\n",
      "Gradient Boosting - MAE: 26.718233532613613, RMSE: 37.802351755377686, R2: 0.690831428849161\n"
     ]
    }
   ],
   "source": [
    "from sklearn.metrics import mean_absolute_error, mean_squared_error, r2_score\n",
    "import numpy as np\n",
    "\n",
    "# Evaluate Linear Regression\n",
    "lin_reg_pred = lin_reg.predict(X_test)\n",
    "print(f\"Linear Regression - MAE: {mean_absolute_error(y_test, lin_reg_pred)}, RMSE: {np.sqrt(mean_squared_error(y_test, lin_reg_pred))}, R2: {r2_score(y_test, lin_reg_pred)}\")\n",
    "\n",
    "# Evaluate Random Forest\n",
    "rf_pred = rf.predict(X_test)\n",
    "print(f\"Random Forest - MAE: {mean_absolute_error(y_test, rf_pred)}, RMSE: {np.sqrt(mean_squared_error(y_test, rf_pred))}, R2: {r2_score(y_test, rf_pred)}\")\n",
    "\n",
    "# Evaluate Gradient Boosting\n",
    "gb_pred = gb.predict(X_test)\n",
    "print(f\"Gradient Boosting - MAE: {mean_absolute_error(y_test, gb_pred)}, RMSE: {np.sqrt(mean_squared_error(y_test, gb_pred))}, R2: {r2_score(y_test, gb_pred)}\")\n"
   ]
  },
  {
   "cell_type": "code",
   "execution_count": 4,
   "id": "4a3ee188-14be-4af3-9f8d-91deabb5839b",
   "metadata": {},
   "outputs": [
    {
     "name": "stdout",
     "output_type": "stream",
     "text": [
      "Best parameters for Random Forest: {'max_depth': None, 'min_samples_split': 2, 'n_estimators': 500}\n",
      "Best parameters for Gradient Boosting: {'learning_rate': 0.1, 'max_depth': 10, 'n_estimators': 500}\n"
     ]
    }
   ],
   "source": [
    "from sklearn.model_selection import GridSearchCV\n",
    "\n",
    "# Random Forest hyperparameter tuning\n",
    "param_grid_rf = {\n",
    "    'n_estimators': [100, 200, 500],\n",
    "    'max_depth': [10, 20, None],\n",
    "    'min_samples_split': [2, 5, 10]\n",
    "}\n",
    "\n",
    "grid_rf = GridSearchCV(RandomForestRegressor(random_state=42), param_grid_rf, cv=5, scoring='neg_mean_squared_error', n_jobs=-1)\n",
    "grid_rf.fit(X_train, y_train)\n",
    "\n",
    "print(f\"Best parameters for Random Forest: {grid_rf.best_params_}\")\n",
    "\n",
    "# Gradient Boosting hyperparameter tuning\n",
    "param_grid_gb = {\n",
    "    'n_estimators': [100, 200, 500],\n",
    "    'learning_rate': [0.01, 0.1, 0.2],\n",
    "    'max_depth': [3, 5, 10]\n",
    "}\n",
    "\n",
    "grid_gb = GridSearchCV(GradientBoostingRegressor(random_state=42), param_grid_gb, cv=5, scoring='neg_mean_squared_error', n_jobs=-1)\n",
    "grid_gb.fit(X_train, y_train)\n",
    "\n",
    "print(f\"Best parameters for Gradient Boosting: {grid_gb.best_params_}\")\n"
   ]
  },
  {
   "cell_type": "code",
   "execution_count": 5,
   "id": "984fbd06-07a2-462d-9795-e65735b8f167",
   "metadata": {},
   "outputs": [
    {
     "name": "stdout",
     "output_type": "stream",
     "text": [
      "Random Forest - MAE: 23.77783543365456, RMSE: 34.47521967875181, R²: 0.7428587295025004\n",
      "Gradient Boosting - MAE: 23.25901131689301, RMSE: 33.85331772575267, R²: 0.7520522478301108\n"
     ]
    }
   ],
   "source": [
    "from sklearn.metrics import mean_absolute_error, mean_squared_error, r2_score\n",
    "import numpy as np\n",
    "\n",
    "# Use the best Random Forest model from GridSearchCV\n",
    "rf_best_model = grid_rf.best_estimator_\n",
    "y_pred_rf = rf_best_model.predict(X_test)\n",
    "\n",
    "# Use the best Gradient Boosting model from GridSearchCV\n",
    "gb_best_model = grid_gb.best_estimator_\n",
    "y_pred_gb = gb_best_model.predict(X_test)\n",
    "\n",
    "# Evaluate Random Forest on the test set\n",
    "rf_mae = mean_absolute_error(y_test, y_pred_rf)\n",
    "rf_rmse = np.sqrt(mean_squared_error(y_test, y_pred_rf))\n",
    "rf_r2 = r2_score(y_test, y_pred_rf)\n",
    "\n",
    "# Evaluate Gradient Boosting on the test set\n",
    "gb_mae = mean_absolute_error(y_test, y_pred_gb)\n",
    "gb_rmse = np.sqrt(mean_squared_error(y_test, y_pred_gb))\n",
    "gb_r2 = r2_score(y_test, y_pred_gb)\n",
    "\n",
    "# Print the results for comparison\n",
    "print(f\"Random Forest - MAE: {rf_mae}, RMSE: {rf_rmse}, R²: {rf_r2}\")\n",
    "print(f\"Gradient Boosting - MAE: {gb_mae}, RMSE: {gb_rmse}, R²: {gb_r2}\")"
   ]
  },
  {
   "cell_type": "code",
   "execution_count": 10,
   "id": "0292ae6c-75a0-48ea-a27a-487f039f8d83",
   "metadata": {},
   "outputs": [
    {
     "data": {
      "text/plain": [
       "['models/best_model.pkl']"
      ]
     },
     "execution_count": 10,
     "metadata": {},
     "output_type": "execute_result"
    }
   ],
   "source": [
    "import joblib\n",
    "import os\n",
    "\n",
    "# Create the 'models/' folder if it doesn't exist\n",
    "os.makedirs('models', exist_ok=True)\n",
    "\n",
    "# Save the best Gradient Boosting model to the 'models/' folder\n",
    "joblib.dump(gb_best_model, 'models/best_model.pkl')\n"
   ]
  },
  {
   "cell_type": "code",
   "execution_count": null,
   "id": "e3cbae35-c7ce-46e0-82d9-ba024c8a363f",
   "metadata": {},
   "outputs": [],
   "source": []
  }
 ],
 "metadata": {
  "kernelspec": {
   "display_name": "Python 3 (ipykernel)",
   "language": "python",
   "name": "python3"
  },
  "language_info": {
   "codemirror_mode": {
    "name": "ipython",
    "version": 3
   },
   "file_extension": ".py",
   "mimetype": "text/x-python",
   "name": "python",
   "nbconvert_exporter": "python",
   "pygments_lexer": "ipython3",
   "version": "3.11.7"
  }
 },
 "nbformat": 4,
 "nbformat_minor": 5
}
