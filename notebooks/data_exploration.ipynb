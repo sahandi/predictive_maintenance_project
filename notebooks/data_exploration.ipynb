{
 "cells": [
  {
   "cell_type": "code",
   "execution_count": 1,
   "id": "57bd75a5-4a09-484e-89ec-18992c2e4b98",
   "metadata": {},
   "outputs": [],
   "source": [
    "import pandas as pd\n",
    "import numpy as np"
   ]
  },
  {
   "cell_type": "code",
   "execution_count": 2,
   "id": "5c28fac3-3e58-4ede-a640-4cb9e746d878",
   "metadata": {},
   "outputs": [
    {
     "name": "stdout",
     "output_type": "stream",
     "text": [
      "   engine_id  cycle  op_setting_1  op_setting_2  op_setting_3  sensor_1  \\\n",
      "0          1      1       -0.0007       -0.0004         100.0    518.67   \n",
      "1          1      2        0.0019       -0.0003         100.0    518.67   \n",
      "2          1      3       -0.0043        0.0003         100.0    518.67   \n",
      "3          1      4        0.0007        0.0000         100.0    518.67   \n",
      "4          1      5       -0.0019       -0.0002         100.0    518.67   \n",
      "\n",
      "   sensor_2  sensor_3  sensor_4  sensor_5  ...  sensor_12  sensor_13  \\\n",
      "0    641.82   1589.70   1400.60     14.62  ...     521.66    2388.02   \n",
      "1    642.15   1591.82   1403.14     14.62  ...     522.28    2388.07   \n",
      "2    642.35   1587.99   1404.20     14.62  ...     522.42    2388.03   \n",
      "3    642.35   1582.79   1401.87     14.62  ...     522.86    2388.08   \n",
      "4    642.37   1582.85   1406.22     14.62  ...     522.19    2388.04   \n",
      "\n",
      "   sensor_14  sensor_15  sensor_16  sensor_17  sensor_18  sensor_19  \\\n",
      "0    8138.62     8.4195       0.03        392       2388      100.0   \n",
      "1    8131.49     8.4318       0.03        392       2388      100.0   \n",
      "2    8133.23     8.4178       0.03        390       2388      100.0   \n",
      "3    8133.83     8.3682       0.03        392       2388      100.0   \n",
      "4    8133.80     8.4294       0.03        393       2388      100.0   \n",
      "\n",
      "   sensor_20  sensor_21  \n",
      "0      39.06    23.4190  \n",
      "1      39.00    23.4236  \n",
      "2      38.95    23.3442  \n",
      "3      38.88    23.3739  \n",
      "4      38.90    23.4044  \n",
      "\n",
      "[5 rows x 26 columns]\n"
     ]
    }
   ],
   "source": [
    "# Load the dataset (example for one of the files)\n",
    "data = pd.read_csv('/Users/quantum/Engine/train_FD001.txt', sep=' ', header=None)\n",
    "\n",
    "# Since the dataset might have extra empty columns due to the space separator, drop any empty columns\n",
    "data.dropna(axis=1, how='all', inplace=True)\n",
    "\n",
    "# Assign column names based on dataset documentation\n",
    "columns = ['engine_id', 'cycle', 'op_setting_1', 'op_setting_2', 'op_setting_3'] + \\\n",
    "          [f'sensor_{i}' for i in range(1, 22)]\n",
    "data.columns = columns\n",
    "\n",
    "# Display the first few rows to confirm successful loading\n",
    "print(data.head())\n"
   ]
  },
  {
   "cell_type": "code",
   "execution_count": 3,
   "id": "0297eb69-a05b-4122-8eab-1fc6592cbb2b",
   "metadata": {},
   "outputs": [
    {
     "name": "stdout",
     "output_type": "stream",
     "text": [
      "engine_id       0\n",
      "cycle           0\n",
      "op_setting_1    0\n",
      "op_setting_2    0\n",
      "op_setting_3    0\n",
      "sensor_1        0\n",
      "sensor_2        0\n",
      "sensor_3        0\n",
      "sensor_4        0\n",
      "sensor_5        0\n",
      "sensor_6        0\n",
      "sensor_7        0\n",
      "sensor_8        0\n",
      "sensor_9        0\n",
      "sensor_10       0\n",
      "sensor_11       0\n",
      "sensor_12       0\n",
      "sensor_13       0\n",
      "sensor_14       0\n",
      "sensor_15       0\n",
      "sensor_16       0\n",
      "sensor_17       0\n",
      "sensor_18       0\n",
      "sensor_19       0\n",
      "sensor_20       0\n",
      "sensor_21       0\n",
      "dtype: int64\n"
     ]
    }
   ],
   "source": [
    "# Check for missing values\n",
    "print(data.isnull().sum())\n",
    "\n",
    "# Remove outliers by clipping sensor values (based on domain knowledge)\n",
    "for sensor in [f'sensor_{i}' for i in range(1, 22)]:\n",
    "    data[sensor] = data[sensor].clip(lower=data[sensor].quantile(0.01), upper=data[sensor].quantile(0.99))\n"
   ]
  }
 ],
 "metadata": {
  "kernelspec": {
   "display_name": "Python 3 (ipykernel)",
   "language": "python",
   "name": "python3"
  },
  "language_info": {
   "codemirror_mode": {
    "name": "ipython",
    "version": 3
   },
   "file_extension": ".py",
   "mimetype": "text/x-python",
   "name": "python",
   "nbconvert_exporter": "python",
   "pygments_lexer": "ipython3",
   "version": "3.11.7"
  }
 },
 "nbformat": 4,
 "nbformat_minor": 5
}
